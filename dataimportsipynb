{
  "nbformat": 4,
  "nbformat_minor": 0,
  "metadata": {
    "colab": {
      "name": "dataimport.ipynb",
      "provenance": [],
      "collapsed_sections": [],
      "toc_visible": true,
      "mount_file_id": "12XY55FG4kMy7GLP9SzIdS5w5KO4D8NDX",
      "authorship_tag": "ABX9TyOdOvnsujHA6fgR/zB4UonY",
      "include_colab_link": true
    },
    "kernelspec": {
      "name": "python3",
      "display_name": "Python 3"
    },
    "language_info": {
      "name": "python"
    }
  },
  "cells": [
    {
      "cell_type": "markdown",
      "metadata": {
        "id": "view-in-github",
        "colab_type": "text"
      },
      "source": [
        "<a href=\"https://colab.research.google.com/github/fabianobriao/Data_Import/blob/main/dataimport.ipynb\" target=\"_parent\"><img src=\"https://colab.research.google.com/assets/colab-badge.svg\" alt=\"Open In Colab\"/></a>"
      ]
    },
    {
      "cell_type": "markdown",
      "metadata": {
        "id": "vZEGnKBI_iv8"
      },
      "source": [
        ""
      ]
    },
    {
      "cell_type": "markdown",
      "metadata": {
        "id": "KnIjbR7aB9sx"
      },
      "source": [
        "## Este repositório é exclusivo para mostrar importações de dados através de diversos tipos de arquivos existentes em várias bases de dados. Ressalto que neste repositório é dedicado para a prepaparação e limpeza dos dos dados, esse tipo de ação é apresentada no repositório Data_Scrubbing.\n",
        "\n",
        "## Os scripts foram construídos na ide PyCharm, por isso algumas sintaxes possam parecer diferentes das usuais para usuários mais habituados ao Google Colaboratory."
      ]
    },
    {
      "cell_type": "code",
      "metadata": {
        "id": "tWu3iBo-sdpv"
      },
      "source": [
        "import numpy as np\n",
        "import pandas as pd\n",
        "import xlrd\n",
        "import json\n",
        "import geopandas as gpd\n",
        "import gspread"
      ],
      "execution_count": 152,
      "outputs": []
    },
    {
      "cell_type": "markdown",
      "metadata": {
        "id": "V8v896M6vn9q"
      },
      "source": [
        "## CSV"
      ]
    },
    {
      "cell_type": "code",
      "metadata": {
        "id": "fQGRdE4wuc4O",
        "colab": {
          "base_uri": "https://localhost:8080/"
        },
        "outputId": "3637d4fa-0dfd-4003-f3e8-75a5f19984c2"
      },
      "source": [
        "## importe de arquivos csv (1º caso)\n",
        "file = \"/content/drive/MyDrive/Colab_Notebooks/Data_Import/Resp2.csv\"\n",
        "df1 = pd.read_csv(file)\n",
        "print(df1.head(3))"
      ],
      "execution_count": null,
      "outputs": [
        {
          "output_type": "stream",
          "text": [
            "   experience  respiration\n",
            "0           0         3.94\n",
            "1           0         4.26\n",
            "2           0         4.16\n",
            "3           0         3.76\n",
            "4           0         4.07\n"
          ],
          "name": "stdout"
        }
      ]
    },
    {
      "cell_type": "code",
      "metadata": {
        "colab": {
          "base_uri": "https://localhost:8080/"
        },
        "id": "_d9af0_-v1Rw",
        "outputId": "90e9bcf1-c8f5-495e-a201-8b4bbe10f74b"
      },
      "source": [
        "## importe de arquivos csv (2º caso, arquivo separado por ;)\n",
        "file = \"/content/drive/MyDrive/Colab_Notebooks/Data_Import/Churn.csv\"\n",
        "df2 = pd.read_csv(file, sep = \";\")\n",
        "print(df2.head(3))"
      ],
      "execution_count": null,
      "outputs": [
        {
          "output_type": "stream",
          "text": [
            "   X0   X1  X2        X3  X4  X4.1       X6  X7  X8  X9         X10  X11\n",
            "0   1  619  RS  Feminino  42     2        0   1   1   1  10134888.0    1\n",
            "1   2  608  SC  Feminino  41     1  8380786   1   0   1  11254258.0    0\n",
            "2   3  502  RS  Feminino  42     8  1596608   3   1   0  11393157.0    1\n"
          ],
          "name": "stdout"
        }
      ]
    },
    {
      "cell_type": "markdown",
      "metadata": {
        "id": "A_kDLMCjNV32"
      },
      "source": [
        "## XLS"
      ]
    },
    {
      "cell_type": "code",
      "metadata": {
        "colab": {
          "base_uri": "https://localhost:8080/"
        },
        "id": "HpCfDrdOvWVW",
        "outputId": "0a97f08d-34fa-481b-e29d-3effd2cb4b2d"
      },
      "source": [
        "## importe de arquivos xls\n",
        "file = \"/content/drive/MyDrive/Colab_Notebooks/Data_Import/boston1.xls\"\n",
        "df2 = pd.ExcelFile(file) #tem que instalar o xlrd\n",
        "print(df2.sheet_names)\n",
        "df2 = df2.parse('Sheet2')\n",
        "print(df2.head(3))"
      ],
      "execution_count": null,
      "outputs": [
        {
          "output_type": "stream",
          "text": [
            "['Sheet1', 'Sheet2']\n",
            "     MV  INDUS   NOX     RM  TAX    PT  LSTAT\n",
            "0  24.0   2.31  53.8  6.575  296  15.3   4.98\n",
            "1  21.6   7.07  46.9  6.421  242  17.8   9.14\n",
            "2  34.7   7.07  46.9  7.185  242  17.8   4.03\n"
          ],
          "name": "stdout"
        }
      ]
    },
    {
      "cell_type": "markdown",
      "metadata": {
        "id": "bl9YR3BmNRGR"
      },
      "source": [
        "## XLSX"
      ]
    },
    {
      "cell_type": "code",
      "metadata": {
        "colab": {
          "base_uri": "https://localhost:8080/"
        },
        "id": "rLwfrEiavVjg",
        "outputId": "67872bf6-84b8-44ba-bc29-1ad4bcc539ad"
      },
      "source": [
        "## importe de arquivos xlsx # tem que instalar o xlrd\n",
        "#import xlrd\n",
        "file = \"/content/drive/MyDrive/Colab_Notebooks/Data_Import/boston11.xlsx\"\n",
        "df2 = pd.ExcelFile(file) \n",
        "print(df2.sheet_names)\n",
        "df2 = df2.parse('Planilha3')\n",
        "print(df2.head(5))"
      ],
      "execution_count": null,
      "outputs": [
        {
          "output_type": "stream",
          "text": [
            "['Sheet1', 'Sheet2', 'Planilha3']\n",
            "     MV  INDUS\n",
            "0  24.0   2.31\n",
            "1  21.6   7.07\n",
            "2  34.7   7.07\n",
            "3  33.4   2.18\n"
          ],
          "name": "stdout"
        }
      ]
    },
    {
      "cell_type": "code",
      "metadata": {
        "colab": {
          "base_uri": "https://localhost:8080/"
        },
        "id": "eE-AlkK21Zv6",
        "outputId": "d96c0866-572a-4fc1-e9c5-6adbff993234"
      },
      "source": [
        "## importe de planilha da internet (no pycharm é necessário instalar lxml)\n",
        "site = \"https://pt.wikipedia.org/wiki/Unidades_federativas_do_Brasil\" # tem que importar html5lib\n",
        "br = pd.read_html(site)\n",
        "#print(type(br))\n",
        "print(br[0].head(5)) # havendo mais de uma tabela puxamos pelo índice\n"
      ],
      "execution_count": 120,
      "outputs": [
        {
          "output_type": "stream",
          "text": [
            "<class 'list'>\n",
            "              0                                       1           2\n",
            "0    Capítulo I  Da Organização Político-Administrativa  art. 18-19\n",
            "1   Capítulo II                                Da União  art. 20-24\n",
            "2  Capítulo III                   Dos Estados Federados  art. 25-28\n",
            "3   Capítulo IV                          Dos Municípios  art. 29-31\n",
            "4    Capítulo V   Do Distrito Federal e dos Territórios  art. 32-33\n"
          ],
          "name": "stdout"
        }
      ]
    },
    {
      "cell_type": "markdown",
      "metadata": {
        "id": "H7wpTDW7NJHV"
      },
      "source": [
        "## JSON"
      ]
    },
    {
      "cell_type": "code",
      "metadata": {
        "colab": {
          "base_uri": "https://localhost:8080/"
        },
        "id": "R3ARvsi82dEB",
        "outputId": "c8fb8ef7-d62e-40fe-bf52-02b75da9ab73"
      },
      "source": [
        "# importe de arquivos json\n",
        "# import json\n",
        "file = \"/content/drive/MyDrive/Colab_Notebooks/Data_Import/skorea.json\"\n",
        "with open(file) as j:\n",
        "    Json = json.load(j)\n",
        "# print(Json)\n",
        "df3 = pd.DataFrame(Json)\n",
        "print(df3.head(4))"
      ],
      "execution_count": 37,
      "outputs": [
        {
          "output_type": "stream",
          "text": [
            "  Description  ...  Year\n",
            "0              ...  2015\n",
            "1              ...  2000\n",
            "2              ...  1997\n",
            "3              ...  2000\n",
            "\n",
            "[4 rows x 7 columns]\n"
          ],
          "name": "stdout"
        }
      ]
    },
    {
      "cell_type": "code",
      "metadata": {
        "colab": {
          "base_uri": "https://localhost:8080/"
        },
        "id": "qi8KxEDv59_3",
        "outputId": "93ec98e1-541e-4196-b6a0-a463a89fcd7c"
      },
      "source": [
        "# importe de arquivos json - amostra de dados extraída de dehttps://servicodados.ibge.gov.br/api/v1/localidades/distritos\n",
        "# import json\n",
        "file = \"/content/drive/MyDrive/Colab_Notebooks/Data_Import/municipio.json\"\n",
        "with open(file) as j:\n",
        "    Json = json.load(j)\n",
        "# print(Json)\n",
        "df4 = pd.DataFrame(Json)\n",
        "print(df4.head(4))"
      ],
      "execution_count": 40,
      "outputs": [
        {
          "output_type": "stream",
          "text": [
            "          id  ...                                          municipio\n",
            "0  520005005  ...  {'id': 5200050, 'nome': 'Abadia de Goiás', 'mi...\n",
            "1  310010405  ...  {'id': 3100104, 'nome': 'Abadia dos Dourados',...\n",
            "2  520010005  ...  {'id': 5200100, 'nome': 'Abadiânia', 'microrre...\n",
            "3  520010010  ...  {'id': 5200100, 'nome': 'Abadiânia', 'microrre...\n",
            "\n",
            "[4 rows x 3 columns]\n"
          ],
          "name": "stdout"
        }
      ]
    },
    {
      "cell_type": "markdown",
      "metadata": {
        "id": "ixs1QVDINDUq"
      },
      "source": [
        "## SHP"
      ]
    },
    {
      "cell_type": "code",
      "metadata": {
        "id": "fkBHF1q6CMzK",
        "colab": {
          "base_uri": "https://localhost:8080/"
        },
        "outputId": "bcd9fffb-011f-4137-f55a-7d9753a95faa"
      },
      "source": [
        "# Importe de arquivos shp - precisamos instalar o geopandas\n",
        "# import geopandas as gpd\n",
        "file = \"/content/drive/MyDrive/Colab_Notebooks/Data_Import/AL_Municipios_2020/AL_Municipios_2020.shp\"\n",
        "datashp = gpd.read_file(file)\n",
        "print(datashp.head(4))"
      ],
      "execution_count": 41,
      "outputs": [
        {
          "output_type": "stream",
          "text": [
            "    CD_MUN  ...                                           geometry\n",
            "0  2700102  ...  POLYGON ((-37.95164 -9.09743, -37.88934 -9.162...\n",
            "1  2700201  ...  POLYGON ((-36.34926 -9.59310, -36.34920 -9.593...\n",
            "2  2700300  ...  POLYGON ((-36.66005 -9.64201, -36.66002 -9.642...\n",
            "3  2700409  ...  POLYGON ((-35.92889 -9.37557, -35.93043 -9.441...\n",
            "\n",
            "[4 rows x 5 columns]\n"
          ],
          "name": "stdout"
        }
      ]
    },
    {
      "cell_type": "markdown",
      "metadata": {
        "id": "P4TS4LzVQrfG"
      },
      "source": [
        "## *GSPREASHEET*"
      ]
    },
    {
      "cell_type": "markdown",
      "metadata": {
        "id": "3-iWuXVe4fWQ"
      },
      "source": [
        "Neste tópico iremos baixar um planilha do google drive, modificá-la e atualizá-la.\n",
        "Também iremos criar uma nova planilha para adicionar ao arquivo das planilhas já existentes."
      ]
    },
    {
      "cell_type": "code",
      "metadata": {
        "id": "XCNrdsh1Pt4p"
      },
      "source": [
        "from google.colab import auth\n",
        "auth.authenticate_user()\n",
        "#import gspread\n",
        "from oauth2client.client import GoogleCredentials\n",
        "gc = gspread.authorize(GoogleCredentials.get_application_default())"
      ],
      "execution_count": 60,
      "outputs": []
    },
    {
      "cell_type": "code",
      "metadata": {
        "id": "YC62vESPUX_A"
      },
      "source": [
        "planilhagg = gc.open('boston1GSheets') #planilha existente no Google Drive"
      ],
      "execution_count": 76,
      "outputs": []
    },
    {
      "cell_type": "code",
      "metadata": {
        "id": "9dCpaaA_0g3C"
      },
      "source": [
        "planilha1 = planilhagg.sheet1 # sheet1 carrega a planilha 1"
      ],
      "execution_count": 77,
      "outputs": []
    },
    {
      "cell_type": "code",
      "metadata": {
        "colab": {
          "base_uri": "https://localhost:8080/",
          "height": 204
        },
        "id": "RVRmcmmt2Wdq",
        "outputId": "ef75b6bc-8f45-443c-ba15-6fc5f6fab636"
      },
      "source": [
        "#transformar a planilha 1 importada em dataframe\n",
        "boston1GSheetspl1 = pd.DataFrame(planilha1.get_all_records())\n",
        "boston1GSheetspl1.head(5)"
      ],
      "execution_count": 115,
      "outputs": [
        {
          "output_type": "execute_result",
          "data": {
            "text/html": [
              "<div>\n",
              "<style scoped>\n",
              "    .dataframe tbody tr th:only-of-type {\n",
              "        vertical-align: middle;\n",
              "    }\n",
              "\n",
              "    .dataframe tbody tr th {\n",
              "        vertical-align: top;\n",
              "    }\n",
              "\n",
              "    .dataframe thead th {\n",
              "        text-align: right;\n",
              "    }\n",
              "</style>\n",
              "<table border=\"1\" class=\"dataframe\">\n",
              "  <thead>\n",
              "    <tr style=\"text-align: right;\">\n",
              "      <th></th>\n",
              "      <th>MV</th>\n",
              "      <th>INDUS</th>\n",
              "      <th>NOX</th>\n",
              "      <th>RM</th>\n",
              "      <th>TAX</th>\n",
              "      <th>PT</th>\n",
              "      <th>LSTAT</th>\n",
              "      <th></th>\n",
              "    </tr>\n",
              "  </thead>\n",
              "  <tbody>\n",
              "    <tr>\n",
              "      <th>0</th>\n",
              "      <td>24</td>\n",
              "      <td>2,31</td>\n",
              "      <td>53,8</td>\n",
              "      <td>6,575</td>\n",
              "      <td>296</td>\n",
              "      <td>15,3</td>\n",
              "      <td>4,98</td>\n",
              "      <td>Subset of Boston housing tract</td>\n",
              "    </tr>\n",
              "    <tr>\n",
              "      <th>1</th>\n",
              "      <td>21,6</td>\n",
              "      <td>7,07</td>\n",
              "      <td>46,9</td>\n",
              "      <td>6,421</td>\n",
              "      <td>242</td>\n",
              "      <td>17,8</td>\n",
              "      <td>9,14</td>\n",
              "      <td>data of Harrison and Rubinfeld</td>\n",
              "    </tr>\n",
              "    <tr>\n",
              "      <th>2</th>\n",
              "      <td>34,7</td>\n",
              "      <td>7,07</td>\n",
              "      <td>46,9</td>\n",
              "      <td>7,185</td>\n",
              "      <td>242</td>\n",
              "      <td>17,8</td>\n",
              "      <td>4,03</td>\n",
              "      <td>(1978).  Each case is one U.S.</td>\n",
              "    </tr>\n",
              "    <tr>\n",
              "      <th>3</th>\n",
              "      <td>33,4</td>\n",
              "      <td>2,18</td>\n",
              "      <td>45,8</td>\n",
              "      <td>6,998</td>\n",
              "      <td>222</td>\n",
              "      <td>18,7</td>\n",
              "      <td>2,94</td>\n",
              "      <td>Census tract in the Boston area.</td>\n",
              "    </tr>\n",
              "    <tr>\n",
              "      <th>4</th>\n",
              "      <td>36,2</td>\n",
              "      <td>2,18</td>\n",
              "      <td>45,8</td>\n",
              "      <td>7,147</td>\n",
              "      <td>222</td>\n",
              "      <td>18,7</td>\n",
              "      <td>5,33</td>\n",
              "      <td></td>\n",
              "    </tr>\n",
              "  </tbody>\n",
              "</table>\n",
              "</div>"
            ],
            "text/plain": [
              "     MV INDUS   NOX     RM  TAX    PT LSTAT                                  \n",
              "0    24  2,31  53,8  6,575  296  15,3  4,98    Subset of Boston housing tract\n",
              "1  21,6  7,07  46,9  6,421  242  17,8  9,14    data of Harrison and Rubinfeld\n",
              "2  34,7  7,07  46,9  7,185  242  17,8  4,03    (1978).  Each case is one U.S.\n",
              "3  33,4  2,18  45,8  6,998  222  18,7  2,94  Census tract in the Boston area.\n",
              "4  36,2  2,18  45,8  7,147  222  18,7  5,33                                  "
            ]
          },
          "metadata": {
            "tags": []
          },
          "execution_count": 115
        }
      ]
    },
    {
      "cell_type": "code",
      "metadata": {
        "colab": {
          "base_uri": "https://localhost:8080/",
          "height": 359
        },
        "id": "eH2PgtRl6NAH",
        "outputId": "db610569-616d-4edb-9fc6-05ff10e22ec9"
      },
      "source": [
        "type(boston1GSheetspl1)\n",
        "#boston1GSheetspl1.info()\n",
        "planilha1nova = boston1GSheetspl1.query('TAX>=200') #criando a nova planilha\n",
        "planilha1nova.head(5)\n",
        "#planilha1nova.info() #489linhas e 8 colunas"
      ],
      "execution_count": 166,
      "outputs": [
        {
          "output_type": "execute_result",
          "data": {
            "text/html": [
              "<div>\n",
              "<style scoped>\n",
              "    .dataframe tbody tr th:only-of-type {\n",
              "        vertical-align: middle;\n",
              "    }\n",
              "\n",
              "    .dataframe tbody tr th {\n",
              "        vertical-align: top;\n",
              "    }\n",
              "\n",
              "    .dataframe thead th {\n",
              "        text-align: right;\n",
              "    }\n",
              "</style>\n",
              "<table border=\"1\" class=\"dataframe\">\n",
              "  <thead>\n",
              "    <tr style=\"text-align: right;\">\n",
              "      <th></th>\n",
              "      <th>MV</th>\n",
              "      <th>INDUS</th>\n",
              "      <th>NOX</th>\n",
              "      <th>RM</th>\n",
              "      <th>TAX</th>\n",
              "      <th>PT</th>\n",
              "      <th>LSTAT</th>\n",
              "      <th></th>\n",
              "    </tr>\n",
              "  </thead>\n",
              "  <tbody>\n",
              "    <tr>\n",
              "      <th>0</th>\n",
              "      <td>24</td>\n",
              "      <td>2,31</td>\n",
              "      <td>53,8</td>\n",
              "      <td>6,575</td>\n",
              "      <td>296</td>\n",
              "      <td>15,3</td>\n",
              "      <td>4,98</td>\n",
              "      <td>Subset of Boston housing tract</td>\n",
              "    </tr>\n",
              "    <tr>\n",
              "      <th>1</th>\n",
              "      <td>21,6</td>\n",
              "      <td>7,07</td>\n",
              "      <td>46,9</td>\n",
              "      <td>6,421</td>\n",
              "      <td>242</td>\n",
              "      <td>17,8</td>\n",
              "      <td>9,14</td>\n",
              "      <td>data of Harrison and Rubinfeld</td>\n",
              "    </tr>\n",
              "    <tr>\n",
              "      <th>2</th>\n",
              "      <td>34,7</td>\n",
              "      <td>7,07</td>\n",
              "      <td>46,9</td>\n",
              "      <td>7,185</td>\n",
              "      <td>242</td>\n",
              "      <td>17,8</td>\n",
              "      <td>4,03</td>\n",
              "      <td>(1978).  Each case is one U.S.</td>\n",
              "    </tr>\n",
              "    <tr>\n",
              "      <th>3</th>\n",
              "      <td>33,4</td>\n",
              "      <td>2,18</td>\n",
              "      <td>45,8</td>\n",
              "      <td>6,998</td>\n",
              "      <td>222</td>\n",
              "      <td>18,7</td>\n",
              "      <td>2,94</td>\n",
              "      <td>Census tract in the Boston area.</td>\n",
              "    </tr>\n",
              "    <tr>\n",
              "      <th>4</th>\n",
              "      <td>36,2</td>\n",
              "      <td>2,18</td>\n",
              "      <td>45,8</td>\n",
              "      <td>7,147</td>\n",
              "      <td>222</td>\n",
              "      <td>18,7</td>\n",
              "      <td>5,33</td>\n",
              "      <td></td>\n",
              "    </tr>\n",
              "    <tr>\n",
              "      <th>5</th>\n",
              "      <td>28,7</td>\n",
              "      <td>2,18</td>\n",
              "      <td>45,8</td>\n",
              "      <td>6,43</td>\n",
              "      <td>222</td>\n",
              "      <td>18,7</td>\n",
              "      <td>5,21</td>\n",
              "      <td></td>\n",
              "    </tr>\n",
              "    <tr>\n",
              "      <th>6</th>\n",
              "      <td>22,9</td>\n",
              "      <td>7,87</td>\n",
              "      <td>52,4</td>\n",
              "      <td>6,012</td>\n",
              "      <td>311</td>\n",
              "      <td>15,2</td>\n",
              "      <td>12,43</td>\n",
              "      <td></td>\n",
              "    </tr>\n",
              "    <tr>\n",
              "      <th>7</th>\n",
              "      <td>27,1</td>\n",
              "      <td>7,87</td>\n",
              "      <td>52,4</td>\n",
              "      <td>6,172</td>\n",
              "      <td>311</td>\n",
              "      <td>15,2</td>\n",
              "      <td>19,15</td>\n",
              "      <td></td>\n",
              "    </tr>\n",
              "    <tr>\n",
              "      <th>8</th>\n",
              "      <td>16,5</td>\n",
              "      <td>7,87</td>\n",
              "      <td>52,4</td>\n",
              "      <td>5,631</td>\n",
              "      <td>311</td>\n",
              "      <td>15,2</td>\n",
              "      <td>29,93</td>\n",
              "      <td></td>\n",
              "    </tr>\n",
              "    <tr>\n",
              "      <th>9</th>\n",
              "      <td>18,9</td>\n",
              "      <td>7,87</td>\n",
              "      <td>52,4</td>\n",
              "      <td>6,004</td>\n",
              "      <td>311</td>\n",
              "      <td>15,2</td>\n",
              "      <td>17,1</td>\n",
              "      <td></td>\n",
              "    </tr>\n",
              "  </tbody>\n",
              "</table>\n",
              "</div>"
            ],
            "text/plain": [
              "     MV INDUS   NOX     RM  TAX    PT  LSTAT                                  \n",
              "0    24  2,31  53,8  6,575  296  15,3   4,98    Subset of Boston housing tract\n",
              "1  21,6  7,07  46,9  6,421  242  17,8   9,14    data of Harrison and Rubinfeld\n",
              "2  34,7  7,07  46,9  7,185  242  17,8   4,03    (1978).  Each case is one U.S.\n",
              "3  33,4  2,18  45,8  6,998  222  18,7   2,94  Census tract in the Boston area.\n",
              "4  36,2  2,18  45,8  7,147  222  18,7   5,33                                  \n",
              "5  28,7  2,18  45,8   6,43  222  18,7   5,21                                  \n",
              "6  22,9  7,87  52,4  6,012  311  15,2  12,43                                  \n",
              "7  27,1  7,87  52,4  6,172  311  15,2  19,15                                  \n",
              "8  16,5  7,87  52,4  5,631  311  15,2  29,93                                  \n",
              "9  18,9  7,87  52,4  6,004  311  15,2   17,1                                  "
            ]
          },
          "metadata": {
            "tags": []
          },
          "execution_count": 166
        }
      ]
    },
    {
      "cell_type": "code",
      "metadata": {
        "id": "MqASPystaHEn"
      },
      "source": [
        "planilha1nova1 = planilhagg.add_worksheet('planilha5', rows=489, cols=8) #criando a nova planilha no drive chamada planilha5"
      ],
      "execution_count": 163,
      "outputs": []
    },
    {
      "cell_type": "code",
      "metadata": {
        "colab": {
          "base_uri": "https://localhost:8080/"
        },
        "id": "3RqGJpCnaatK",
        "outputId": "ef9a9261-f2c1-404b-b7d6-067585265e9b"
      },
      "source": [
        "planilha1nova1.update([planilha1nova.columns.values.tolist()] + planilha1nova.values.tolist()) #transformando dados numa lista de listas e carregando o google planilhas"
      ],
      "execution_count": 170,
      "outputs": [
        {
          "output_type": "execute_result",
          "data": {
            "text/plain": [
              "{'spreadsheetId': '1ZbWC0-5lCN-r85HZ_46oC0hM5q4Dzk_W2t3PGOegy2k',\n",
              " 'updatedCells': 3920,\n",
              " 'updatedColumns': 8,\n",
              " 'updatedRange': 'planilha5!A1:H490',\n",
              " 'updatedRows': 490}"
            ]
          },
          "metadata": {
            "tags": []
          },
          "execution_count": 170
        }
      ]
    }
  ]
}
