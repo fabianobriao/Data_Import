{
  "nbformat": 4,
  "nbformat_minor": 0,
  "metadata": {
    "colab": {
      "name": "dataimport.ipynb",
      "provenance": [],
      "collapsed_sections": [],
      "toc_visible": true,
      "mount_file_id": "12XY55FG4kMy7GLP9SzIdS5w5KO4D8NDX",
      "authorship_tag": "ABX9TyNzGQZ4BYjtb23beyPy7b3l",
      "include_colab_link": true
    },
    "kernelspec": {
      "name": "python3",
      "display_name": "Python 3"
    },
    "language_info": {
      "name": "python"
    }
  },
  "cells": [
    {
      "cell_type": "markdown",
      "metadata": {
        "id": "view-in-github",
        "colab_type": "text"
      },
      "source": [
        "<a href=\"https://colab.research.google.com/github/fabianobriao/Data_Import/blob/main/dataimport.ipynb\" target=\"_parent\"><img src=\"https://colab.research.google.com/assets/colab-badge.svg\" alt=\"Open In Colab\"/></a>"
      ]
    },
    {
      "cell_type": "markdown",
      "metadata": {
        "id": "vZEGnKBI_iv8"
      },
      "source": [
        ""
      ]
    },
    {
      "cell_type": "markdown",
      "metadata": {
        "id": "KnIjbR7aB9sx"
      },
      "source": [
        "## Este repositório é exclusivo para mostrar importações de dados através de diversos tipos de arquivos existentes em várias bases de dados. Ressalto que neste repositório é dedicado para a prepaparação e limpeza dos dos dados, esse tipo de ação é apresentada no repositório Data_Scrubbing.\n",
        "\n",
        "## Os scripts foram construídos na ide PyCharm, por isso algumas sintaxes possam parecer diferentes das usuais para usuários mais habituados ao Google Colaboratory."
      ]
    },
    {
      "cell_type": "code",
      "metadata": {
        "id": "tWu3iBo-sdpv"
      },
      "source": [
        "import numpy as np\n",
        "import pandas as pd\n",
        "import xlrd\n",
        "import json\n",
        "import geopandas as gpd"
      ],
      "execution_count": 32,
      "outputs": []
    },
    {
      "cell_type": "markdown",
      "metadata": {
        "id": "V8v896M6vn9q"
      },
      "source": [
        "## CSV"
      ]
    },
    {
      "cell_type": "code",
      "metadata": {
        "id": "fQGRdE4wuc4O",
        "colab": {
          "base_uri": "https://localhost:8080/"
        },
        "outputId": "3637d4fa-0dfd-4003-f3e8-75a5f19984c2"
      },
      "source": [
        "## importe de arquivos csv (1º caso)\n",
        "file = \"/content/drive/MyDrive/Colab_Notebooks/Data_Import/Resp2.csv\"\n",
        "df1 = pd.read_csv(file)\n",
        "print(df1.head(3))"
      ],
      "execution_count": null,
      "outputs": [
        {
          "output_type": "stream",
          "text": [
            "   experience  respiration\n",
            "0           0         3.94\n",
            "1           0         4.26\n",
            "2           0         4.16\n",
            "3           0         3.76\n",
            "4           0         4.07\n"
          ],
          "name": "stdout"
        }
      ]
    },
    {
      "cell_type": "code",
      "metadata": {
        "colab": {
          "base_uri": "https://localhost:8080/"
        },
        "id": "_d9af0_-v1Rw",
        "outputId": "90e9bcf1-c8f5-495e-a201-8b4bbe10f74b"
      },
      "source": [
        "## importe de arquivos csv (2º caso, arquivo separado por ;)\n",
        "file = \"/content/drive/MyDrive/Colab_Notebooks/Data_Import/Churn.csv\"\n",
        "df2 = pd.read_csv(file, sep = \";\")\n",
        "print(df2.head(3))"
      ],
      "execution_count": null,
      "outputs": [
        {
          "output_type": "stream",
          "text": [
            "   X0   X1  X2        X3  X4  X4.1       X6  X7  X8  X9         X10  X11\n",
            "0   1  619  RS  Feminino  42     2        0   1   1   1  10134888.0    1\n",
            "1   2  608  SC  Feminino  41     1  8380786   1   0   1  11254258.0    0\n",
            "2   3  502  RS  Feminino  42     8  1596608   3   1   0  11393157.0    1\n"
          ],
          "name": "stdout"
        }
      ]
    },
    {
      "cell_type": "markdown",
      "metadata": {
        "id": "A_kDLMCjNV32"
      },
      "source": [
        "## XLS"
      ]
    },
    {
      "cell_type": "code",
      "metadata": {
        "colab": {
          "base_uri": "https://localhost:8080/"
        },
        "id": "HpCfDrdOvWVW",
        "outputId": "0a97f08d-34fa-481b-e29d-3effd2cb4b2d"
      },
      "source": [
        "## importe de arquivos xls\n",
        "file = \"/content/drive/MyDrive/Colab_Notebooks/Data_Import/boston1.xls\"\n",
        "df2 = pd.ExcelFile(file) #tem que instalar o xlrd\n",
        "print(df2.sheet_names)\n",
        "df2 = df2.parse('Sheet2')\n",
        "print(df2.head(3))"
      ],
      "execution_count": null,
      "outputs": [
        {
          "output_type": "stream",
          "text": [
            "['Sheet1', 'Sheet2']\n",
            "     MV  INDUS   NOX     RM  TAX    PT  LSTAT\n",
            "0  24.0   2.31  53.8  6.575  296  15.3   4.98\n",
            "1  21.6   7.07  46.9  6.421  242  17.8   9.14\n",
            "2  34.7   7.07  46.9  7.185  242  17.8   4.03\n"
          ],
          "name": "stdout"
        }
      ]
    },
    {
      "cell_type": "markdown",
      "metadata": {
        "id": "bl9YR3BmNRGR"
      },
      "source": [
        "## XLSX"
      ]
    },
    {
      "cell_type": "code",
      "metadata": {
        "colab": {
          "base_uri": "https://localhost:8080/"
        },
        "id": "rLwfrEiavVjg",
        "outputId": "67872bf6-84b8-44ba-bc29-1ad4bcc539ad"
      },
      "source": [
        "## importe de arquivos xlsx # tem que instalar o xlrd\n",
        "#import xlrd\n",
        "file = \"/content/drive/MyDrive/Colab_Notebooks/Data_Import/boston11.xlsx\"\n",
        "df2 = pd.ExcelFile(file) \n",
        "print(df2.sheet_names)\n",
        "df2 = df2.parse('Planilha3')\n",
        "print(df2.head(5))"
      ],
      "execution_count": null,
      "outputs": [
        {
          "output_type": "stream",
          "text": [
            "['Sheet1', 'Sheet2', 'Planilha3']\n",
            "     MV  INDUS\n",
            "0  24.0   2.31\n",
            "1  21.6   7.07\n",
            "2  34.7   7.07\n",
            "3  33.4   2.18\n"
          ],
          "name": "stdout"
        }
      ]
    },
    {
      "cell_type": "code",
      "metadata": {
        "colab": {
          "base_uri": "https://localhost:8080/"
        },
        "id": "eE-AlkK21Zv6",
        "outputId": "93bca567-9941-42c8-a36c-4e2d3a2d002f"
      },
      "source": [
        "## importe de planilha da internet (no pycharm é necessário instalar lxml)\n",
        "site = \"https://pt.wikipedia.org/wiki/Unidades_federativas_do_Brasil\" # tem que importar html5lib\n",
        "br = pd.read_html(site)\n",
        "#print(type(br))\n",
        "print(br[0].head(5)) # havendo mais de uma tabela puxamos pelo índice\n"
      ],
      "execution_count": null,
      "outputs": [
        {
          "output_type": "stream",
          "text": [
            "<class 'list'>\n",
            "              0                                       1           2\n",
            "0    Capítulo I  Da Organização Político-Administrativa  art. 18-19\n",
            "1   Capítulo II                                Da União  art. 20-24\n",
            "2  Capítulo III                   Dos Estados Federados  art. 25-28\n",
            "3   Capítulo IV                          Dos Municípios  art. 29-31\n",
            "4    Capítulo V   Do Distrito Federal e dos Territórios  art. 32-33\n"
          ],
          "name": "stdout"
        }
      ]
    },
    {
      "cell_type": "markdown",
      "metadata": {
        "id": "H7wpTDW7NJHV"
      },
      "source": [
        "## JSON"
      ]
    },
    {
      "cell_type": "code",
      "metadata": {
        "colab": {
          "base_uri": "https://localhost:8080/"
        },
        "id": "R3ARvsi82dEB",
        "outputId": "c8fb8ef7-d62e-40fe-bf52-02b75da9ab73"
      },
      "source": [
        "# importe de arquivos json\n",
        "# import json\n",
        "file = \"/content/drive/MyDrive/Colab_Notebooks/Data_Import/skorea.json\"\n",
        "with open(file) as j:\n",
        "    Json = json.load(j)\n",
        "# print(Json)\n",
        "df3 = pd.DataFrame(Json)\n",
        "print(df3.head(4))"
      ],
      "execution_count": 37,
      "outputs": [
        {
          "output_type": "stream",
          "text": [
            "  Description  ...  Year\n",
            "0              ...  2015\n",
            "1              ...  2000\n",
            "2              ...  1997\n",
            "3              ...  2000\n",
            "\n",
            "[4 rows x 7 columns]\n"
          ],
          "name": "stdout"
        }
      ]
    },
    {
      "cell_type": "code",
      "metadata": {
        "colab": {
          "base_uri": "https://localhost:8080/"
        },
        "id": "qi8KxEDv59_3",
        "outputId": "e4909276-ee3a-4219-8ada-ec313cc7a013"
      },
      "source": [
        "# importe de arquivos json - amostra de dados extraída de dehttps://servicodados.ibge.gov.br/api/v1/localidades/distritos\n",
        "# import json\n",
        "file = \"/content/drive/MyDrive/Colab_Notebooks/Data_Import/municipio.json\"\n",
        "with open(file) as j:\n",
        "    Json = json.load(j)\n",
        "#print(Json)\n",
        "df4 = pd.DataFrame(Json)\n",
        "print(df4.head(4))"
      ],
      "execution_count": null,
      "outputs": [
        {
          "output_type": "stream",
          "text": [
            "          id  ...                                          municipio\n",
            "0  520005005  ...  {'id': 5200050, 'nome': 'Abadia de Goiás', 'mi...\n",
            "1  310010405  ...  {'id': 3100104, 'nome': 'Abadia dos Dourados',...\n",
            "2  520010005  ...  {'id': 5200100, 'nome': 'Abadiânia', 'microrre...\n",
            "3  520010010  ...  {'id': 5200100, 'nome': 'Abadiânia', 'microrre...\n",
            "\n",
            "[4 rows x 3 columns]\n"
          ],
          "name": "stdout"
        }
      ]
    },
    {
      "cell_type": "markdown",
      "metadata": {
        "id": "ixs1QVDINDUq"
      },
      "source": [
        "## SHP"
      ]
    },
    {
      "cell_type": "code",
      "metadata": {
        "id": "fkBHF1q6CMzK",
        "colab": {
          "base_uri": "https://localhost:8080/",
          "height": 197
        },
        "outputId": "60b401f8-c052-4c64-a4de-bd5ed5ea5e6f"
      },
      "source": [
        "# Importe de arquivos shp - precisamos instalar o geopandas\n",
        "#import geopandas as gpd\n",
        "file = \"/content/drive/MyDrive/Colab_Notebooks/Data_Import/AL_Municipios_2020/AL_Municipios_2020.shp\"\n",
        "gpd.read_file(file)\n",
        "print(file.head(4))"
      ],
      "execution_count": 35,
      "outputs": [
        {
          "output_type": "error",
          "ename": "AttributeError",
          "evalue": "ignored",
          "traceback": [
            "\u001b[0;31m---------------------------------------------------------------------------\u001b[0m",
            "\u001b[0;31mAttributeError\u001b[0m                            Traceback (most recent call last)",
            "\u001b[0;32m<ipython-input-35-bf8a42ca0b19>\u001b[0m in \u001b[0;36m<module>\u001b[0;34m()\u001b[0m\n\u001b[1;32m      3\u001b[0m \u001b[0mfile\u001b[0m \u001b[0;34m=\u001b[0m \u001b[0;34m\"/content/drive/MyDrive/Colab_Notebooks/Data_Import/AL_Municipios_2020/AL_Municipios_2020.shp\"\u001b[0m\u001b[0;34m\u001b[0m\u001b[0;34m\u001b[0m\u001b[0m\n\u001b[1;32m      4\u001b[0m \u001b[0mgpd\u001b[0m\u001b[0;34m.\u001b[0m\u001b[0mread_file\u001b[0m\u001b[0;34m(\u001b[0m\u001b[0mfile\u001b[0m\u001b[0;34m)\u001b[0m\u001b[0;34m\u001b[0m\u001b[0;34m\u001b[0m\u001b[0m\n\u001b[0;32m----> 5\u001b[0;31m \u001b[0mprint\u001b[0m\u001b[0;34m(\u001b[0m\u001b[0mfile\u001b[0m\u001b[0;34m.\u001b[0m\u001b[0mhead\u001b[0m\u001b[0;34m(\u001b[0m\u001b[0;36m4\u001b[0m\u001b[0;34m)\u001b[0m\u001b[0;34m)\u001b[0m\u001b[0;34m\u001b[0m\u001b[0;34m\u001b[0m\u001b[0m\n\u001b[0m",
            "\u001b[0;31mAttributeError\u001b[0m: 'str' object has no attribute 'head'"
          ]
        }
      ]
    }
  ]
}