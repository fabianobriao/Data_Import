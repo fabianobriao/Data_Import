{
  "nbformat": 4,
  "nbformat_minor": 0,
  "metadata": {
    "colab": {
      "name": "dataimport.ipynb",
      "provenance": [],
      "toc_visible": true,
      "mount_file_id": "12XY55FG4kMy7GLP9SzIdS5w5KO4D8NDX",
      "authorship_tag": "ABX9TyPYETaIf99dYjDqcCaJSeRK",
      "include_colab_link": true
    },
    "kernelspec": {
      "name": "python3",
      "display_name": "Python 3"
    },
    "language_info": {
      "name": "python"
    }
  },
  "cells": [
    {
      "cell_type": "markdown",
      "metadata": {
        "id": "view-in-github",
        "colab_type": "text"
      },
      "source": [
        "<a href=\"https://colab.research.google.com/github/fabianobriao/Data_Import/blob/main/dataimport.ipynb\" target=\"_parent\"><img src=\"https://colab.research.google.com/assets/colab-badge.svg\" alt=\"Open In Colab\"/></a>"
      ]
    },
    {
      "cell_type": "code",
      "metadata": {
        "id": "tWu3iBo-sdpv"
      },
      "source": [
        "import numpy as np\n",
        "import pandas as pd"
      ],
      "execution_count": null,
      "outputs": []
    },
    {
      "cell_type": "markdown",
      "metadata": {
        "id": "V8v896M6vn9q"
      },
      "source": [
        "**Import CSV**"
      ]
    },
    {
      "cell_type": "code",
      "metadata": {
        "id": "fQGRdE4wuc4O"
      },
      "source": [
        "## import csv 1\n",
        "file = \"/content/drive/MyDrive/Colab Notebooks/Data_Import/Resp2.csv\"\n",
        "df1 = pd.read_csv(file)\n",
        "#print(df1)"
      ],
      "execution_count": null,
      "outputs": []
    },
    {
      "cell_type": "code",
      "metadata": {
        "colab": {
          "base_uri": "https://localhost:8080/"
        },
        "id": "_d9af0_-v1Rw",
        "outputId": "8fcf7d88-8d40-4298-acd6-fb4d58187787"
      },
      "source": [
        "## import csv 2(arquivo separado por ;)\n",
        "file = \"/content/drive/MyDrive/Colab_Notebooks/Data_Import/Churn.csv\"\n",
        "df2 = pd.read_csv(file, sep = \";\")\n",
        "print(df2)"
      ],
      "execution_count": 7,
      "outputs": [
        {
          "output_type": "stream",
          "text": [
            "       X0   X1  X2         X3  X4  X4.1        X6  X7  X8  X9         X10  X11\n",
            "0       1  619  RS   Feminino  42     2         0   1   1   1  10134888.0    1\n",
            "1       2  608  SC   Feminino  41     1   8380786   1   0   1  11254258.0    0\n",
            "2       3  502  RS   Feminino  42     8   1596608   3   1   0  11393157.0    1\n",
            "3       4  699  RS   Feminino  39     1         0   2   0   0   9382663.0    0\n",
            "4       5  850  SC   Feminino  43     2  12551082   1   1   1    790841.0    0\n",
            "..    ...  ...  ..        ...  ..   ...       ...  ..  ..  ..         ...  ...\n",
            "994   996  838  SC  Masculino  43     9  12310588   2   1   0  14576583.0    0\n",
            "995   997  610  SC  Masculino  29     9         0   3   0   1   8391224.0    0\n",
            "996   998  811  SC  Masculino  44     3         0   2   0   1   7843973.0    0\n",
            "997   999  587  SC  Masculino  62     7  12128627   1   0   1    677692.0    0\n",
            "998  1000  811  PR   Feminino  28     4  16773882   2   1   1    990342.0    0\n",
            "\n",
            "[999 rows x 12 columns]\n"
          ],
          "name": "stdout"
        }
      ]
    },
    {
      "cell_type": "markdown",
      "metadata": {
        "id": "u6Sbu6aZsq-L"
      },
      "source": [
        "# Nova seção"
      ]
    }
  ]
}